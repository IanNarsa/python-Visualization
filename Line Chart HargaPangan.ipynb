{
 "cells": [
  {
   "cell_type": "code",
   "execution_count": 1,
   "metadata": {},
   "outputs": [],
   "source": [
    "import pandas as pd\n",
    "pd.plotting.register_matplotlib_converters()\n",
    "import matplotlib.pyplot as plt\n",
    "import seaborn as sns"
   ]
  },
  {
   "cell_type": "code",
   "execution_count": 2,
   "metadata": {
    "scrolled": true
   },
   "outputs": [],
   "source": [
    "data_pangan = pd.read_csv('data/pangan_19_20.csv', parse_dates = True)"
   ]
  },
  {
   "cell_type": "code",
   "execution_count": 3,
   "metadata": {},
   "outputs": [
    {
     "data": {
      "text/plain": [
       "['Date',\n",
       " 'Beras',\n",
       " 'Beras Kualitas Bawah I (kg)',\n",
       " 'Beras Kualitas Bawah II (kg)',\n",
       " 'Beras Kualitas Medium I (kg)',\n",
       " 'Beras Kualitas Medium II (kg)',\n",
       " 'Beras Kualitas Super I (kg)',\n",
       " 'Beras Kualitas Super II (kg)',\n",
       " 'Daging Ayam',\n",
       " 'Daging Ayam Ras Segar (kg)',\n",
       " 'Daging Sapi',\n",
       " 'Daging Sapi Kualitas 1 (kg)',\n",
       " 'Daging Sapi Kualitas 2 (kg)',\n",
       " 'Telur Ayam',\n",
       " 'Telur Ayam Ras Segar (kg)',\n",
       " 'Bawang Merah',\n",
       " 'Bawang Merah Ukuran Sedang (kg)',\n",
       " 'Bawang Putih',\n",
       " 'Bawang Putih Ukuran Sedang (kg)',\n",
       " 'Cabai Merah',\n",
       " 'Cabai Merah Besar (kg)',\n",
       " 'Cabai Merah Keriting  (kg)',\n",
       " 'Cabai Rawit',\n",
       " 'Cabai Rawit Hijau (kg)',\n",
       " 'Cabai Rawit Merah (kg)',\n",
       " 'Minyak Goreng',\n",
       " 'Minyak Goreng Curah (kg)',\n",
       " 'Minyak Goreng Kemasan Bermerk 1 (kg)',\n",
       " 'Minyak Goreng Kemasan Bermerk 2 (kg)',\n",
       " 'Gula Pasir',\n",
       " 'Gula Pasir Kualitas Premium (kg)',\n",
       " 'Gula Pasir Lokal (kg)']"
      ]
     },
     "execution_count": 3,
     "metadata": {},
     "output_type": "execute_result"
    }
   ],
   "source": [
    "list(data_pangan.columns)"
   ]
  },
  {
   "cell_type": "code",
   "execution_count": 4,
   "metadata": {},
   "outputs": [
    {
     "data": {
      "text/html": [
       "<div>\n",
       "<style scoped>\n",
       "    .dataframe tbody tr th:only-of-type {\n",
       "        vertical-align: middle;\n",
       "    }\n",
       "\n",
       "    .dataframe tbody tr th {\n",
       "        vertical-align: top;\n",
       "    }\n",
       "\n",
       "    .dataframe thead th {\n",
       "        text-align: right;\n",
       "    }\n",
       "</style>\n",
       "<table border=\"1\" class=\"dataframe\">\n",
       "  <thead>\n",
       "    <tr style=\"text-align: right;\">\n",
       "      <th></th>\n",
       "      <th>Date</th>\n",
       "      <th>Beras</th>\n",
       "      <th>Beras Kualitas Bawah I (kg)</th>\n",
       "      <th>Beras Kualitas Bawah II (kg)</th>\n",
       "      <th>Beras Kualitas Medium I (kg)</th>\n",
       "      <th>Beras Kualitas Medium II (kg)</th>\n",
       "      <th>Beras Kualitas Super I (kg)</th>\n",
       "      <th>Beras Kualitas Super II (kg)</th>\n",
       "      <th>Daging Ayam</th>\n",
       "      <th>Daging Ayam Ras Segar (kg)</th>\n",
       "      <th>...</th>\n",
       "      <th>Cabai Rawit</th>\n",
       "      <th>Cabai Rawit Hijau (kg)</th>\n",
       "      <th>Cabai Rawit Merah (kg)</th>\n",
       "      <th>Minyak Goreng</th>\n",
       "      <th>Minyak Goreng Curah (kg)</th>\n",
       "      <th>Minyak Goreng Kemasan Bermerk 1 (kg)</th>\n",
       "      <th>Minyak Goreng Kemasan Bermerk 2 (kg)</th>\n",
       "      <th>Gula Pasir</th>\n",
       "      <th>Gula Pasir Kualitas Premium (kg)</th>\n",
       "      <th>Gula Pasir Lokal (kg)</th>\n",
       "    </tr>\n",
       "  </thead>\n",
       "  <tbody>\n",
       "    <tr>\n",
       "      <th>0</th>\n",
       "      <td>02/09/2019</td>\n",
       "      <td>11700</td>\n",
       "      <td>10650</td>\n",
       "      <td>10250</td>\n",
       "      <td>11800</td>\n",
       "      <td>11550</td>\n",
       "      <td>13050</td>\n",
       "      <td>12600</td>\n",
       "      <td>30450</td>\n",
       "      <td>30450</td>\n",
       "      <td>...</td>\n",
       "      <td>58050</td>\n",
       "      <td>50450</td>\n",
       "      <td>66700</td>\n",
       "      <td>13200</td>\n",
       "      <td>11350</td>\n",
       "      <td>14400</td>\n",
       "      <td>13600</td>\n",
       "      <td>13750</td>\n",
       "      <td>14900</td>\n",
       "      <td>12900</td>\n",
       "    </tr>\n",
       "    <tr>\n",
       "      <th>1</th>\n",
       "      <td>03/09/2019</td>\n",
       "      <td>11700</td>\n",
       "      <td>10650</td>\n",
       "      <td>10250</td>\n",
       "      <td>11800</td>\n",
       "      <td>11550</td>\n",
       "      <td>13050</td>\n",
       "      <td>12600</td>\n",
       "      <td>30300</td>\n",
       "      <td>30300</td>\n",
       "      <td>...</td>\n",
       "      <td>58900</td>\n",
       "      <td>50750</td>\n",
       "      <td>67150</td>\n",
       "      <td>13200</td>\n",
       "      <td>11350</td>\n",
       "      <td>14400</td>\n",
       "      <td>13650</td>\n",
       "      <td>13750</td>\n",
       "      <td>14900</td>\n",
       "      <td>12900</td>\n",
       "    </tr>\n",
       "    <tr>\n",
       "      <th>2</th>\n",
       "      <td>04/09/2019</td>\n",
       "      <td>11700</td>\n",
       "      <td>10650</td>\n",
       "      <td>10250</td>\n",
       "      <td>11800</td>\n",
       "      <td>11600</td>\n",
       "      <td>13050</td>\n",
       "      <td>12600</td>\n",
       "      <td>30100</td>\n",
       "      <td>30100</td>\n",
       "      <td>...</td>\n",
       "      <td>59500</td>\n",
       "      <td>51150</td>\n",
       "      <td>67750</td>\n",
       "      <td>13200</td>\n",
       "      <td>11350</td>\n",
       "      <td>14400</td>\n",
       "      <td>13650</td>\n",
       "      <td>13700</td>\n",
       "      <td>14900</td>\n",
       "      <td>12900</td>\n",
       "    </tr>\n",
       "    <tr>\n",
       "      <th>3</th>\n",
       "      <td>05/09/2019</td>\n",
       "      <td>11700</td>\n",
       "      <td>10650</td>\n",
       "      <td>10250</td>\n",
       "      <td>11800</td>\n",
       "      <td>11550</td>\n",
       "      <td>13050</td>\n",
       "      <td>12600</td>\n",
       "      <td>30100</td>\n",
       "      <td>30100</td>\n",
       "      <td>...</td>\n",
       "      <td>59600</td>\n",
       "      <td>51150</td>\n",
       "      <td>68000</td>\n",
       "      <td>13200</td>\n",
       "      <td>11350</td>\n",
       "      <td>14400</td>\n",
       "      <td>13650</td>\n",
       "      <td>13700</td>\n",
       "      <td>14900</td>\n",
       "      <td>12850</td>\n",
       "    </tr>\n",
       "    <tr>\n",
       "      <th>4</th>\n",
       "      <td>06/09/2019</td>\n",
       "      <td>11700</td>\n",
       "      <td>10650</td>\n",
       "      <td>10250</td>\n",
       "      <td>11800</td>\n",
       "      <td>11550</td>\n",
       "      <td>13050</td>\n",
       "      <td>12600</td>\n",
       "      <td>30050</td>\n",
       "      <td>30050</td>\n",
       "      <td>...</td>\n",
       "      <td>60000</td>\n",
       "      <td>50950</td>\n",
       "      <td>68950</td>\n",
       "      <td>13200</td>\n",
       "      <td>11350</td>\n",
       "      <td>14400</td>\n",
       "      <td>13650</td>\n",
       "      <td>13700</td>\n",
       "      <td>14900</td>\n",
       "      <td>12850</td>\n",
       "    </tr>\n",
       "  </tbody>\n",
       "</table>\n",
       "<p>5 rows × 32 columns</p>\n",
       "</div>"
      ],
      "text/plain": [
       "         Date  Beras  Beras Kualitas Bawah I (kg)  \\\n",
       "0  02/09/2019  11700                        10650   \n",
       "1  03/09/2019  11700                        10650   \n",
       "2  04/09/2019  11700                        10650   \n",
       "3  05/09/2019  11700                        10650   \n",
       "4  06/09/2019  11700                        10650   \n",
       "\n",
       "   Beras Kualitas Bawah II (kg)  Beras Kualitas Medium I (kg)  \\\n",
       "0                         10250                         11800   \n",
       "1                         10250                         11800   \n",
       "2                         10250                         11800   \n",
       "3                         10250                         11800   \n",
       "4                         10250                         11800   \n",
       "\n",
       "   Beras Kualitas Medium II (kg)  Beras Kualitas Super I (kg)  \\\n",
       "0                          11550                        13050   \n",
       "1                          11550                        13050   \n",
       "2                          11600                        13050   \n",
       "3                          11550                        13050   \n",
       "4                          11550                        13050   \n",
       "\n",
       "   Beras Kualitas Super II (kg)  Daging Ayam  Daging Ayam Ras Segar (kg)  ...  \\\n",
       "0                         12600        30450                       30450  ...   \n",
       "1                         12600        30300                       30300  ...   \n",
       "2                         12600        30100                       30100  ...   \n",
       "3                         12600        30100                       30100  ...   \n",
       "4                         12600        30050                       30050  ...   \n",
       "\n",
       "   Cabai Rawit  Cabai Rawit Hijau (kg)  Cabai Rawit Merah (kg)  Minyak Goreng  \\\n",
       "0        58050                   50450                   66700          13200   \n",
       "1        58900                   50750                   67150          13200   \n",
       "2        59500                   51150                   67750          13200   \n",
       "3        59600                   51150                   68000          13200   \n",
       "4        60000                   50950                   68950          13200   \n",
       "\n",
       "   Minyak Goreng Curah (kg)  Minyak Goreng Kemasan Bermerk 1 (kg)  \\\n",
       "0                     11350                                 14400   \n",
       "1                     11350                                 14400   \n",
       "2                     11350                                 14400   \n",
       "3                     11350                                 14400   \n",
       "4                     11350                                 14400   \n",
       "\n",
       "   Minyak Goreng Kemasan Bermerk 2 (kg)  Gula Pasir  \\\n",
       "0                                 13600       13750   \n",
       "1                                 13650       13750   \n",
       "2                                 13650       13700   \n",
       "3                                 13650       13700   \n",
       "4                                 13650       13700   \n",
       "\n",
       "   Gula Pasir Kualitas Premium (kg)  Gula Pasir Lokal (kg)  \n",
       "0                             14900                  12900  \n",
       "1                             14900                  12900  \n",
       "2                             14900                  12900  \n",
       "3                             14900                  12850  \n",
       "4                             14900                  12850  \n",
       "\n",
       "[5 rows x 32 columns]"
      ]
     },
     "execution_count": 4,
     "metadata": {},
     "output_type": "execute_result"
    }
   ],
   "source": [
    "data_pangan.head(5)"
   ]
  },
  {
   "cell_type": "code",
   "execution_count": 6,
   "metadata": {},
   "outputs": [
    {
     "data": {
      "application/vnd.plotly.v1+json": {
       "config": {
        "plotlyServerURL": "https://plot.ly"
       },
       "data": [
        {
         "close": [
          53100,
          52150,
          51900,
          51350,
          50650,
          49300,
          49000,
          48400,
          47500,
          47050,
          45750,
          45300,
          44500,
          43450,
          43400,
          43150,
          43400,
          42950,
          43050,
          42850,
          42850,
          42750,
          42700,
          43000,
          42950,
          43750,
          44350,
          44300,
          44550,
          44900,
          46050,
          46200,
          45800,
          45750,
          45800,
          45250,
          45100,
          44900,
          44550,
          43800,
          42300,
          42150,
          41850,
          41000,
          41000,
          41050,
          41300,
          41050,
          40500,
          41600,
          42400,
          41950,
          42200,
          41900,
          41800,
          39850,
          39800,
          39350,
          38850,
          38550,
          36650,
          36200,
          34650,
          35150,
          34800,
          33450,
          33050,
          32450,
          31850,
          31950,
          31100,
          31300,
          31900,
          31550,
          31850,
          32400,
          32550,
          32500,
          32500,
          32700,
          34700,
          35250,
          35650,
          36100,
          36400,
          39400,
          39800,
          42800,
          42950,
          43200,
          43550,
          43800,
          45200,
          45200,
          45800,
          46850,
          46950
         ],
         "high": [
          24700,
          24700,
          24650,
          24600,
          24600,
          24450,
          24400,
          24350,
          24350,
          24250,
          24100,
          24050,
          24050,
          24000,
          24050,
          23900,
          23950,
          23750,
          23800,
          23700,
          23650,
          23650,
          23600,
          23450,
          23450,
          23500,
          23400,
          23450,
          23450,
          23350,
          23350,
          23350,
          23250,
          23300,
          23350,
          23350,
          23400,
          23400,
          23400,
          23300,
          23250,
          23200,
          23200,
          23150,
          23250,
          23200,
          23150,
          23150,
          22900,
          23200,
          23400,
          23500,
          23550,
          23650,
          23850,
          24000,
          24100,
          24200,
          24250,
          24300,
          24500,
          24650,
          24800,
          24850,
          24900,
          25100,
          25150,
          25200,
          25200,
          25250,
          25400,
          25350,
          25600,
          25600,
          25700,
          25850,
          26000,
          26000,
          26100,
          26200,
          26250,
          26250,
          26350,
          26250,
          26250,
          26300,
          26350,
          26050,
          25950,
          25900,
          25800,
          25900,
          25700,
          25700,
          25700,
          25650,
          25650
         ],
         "low": [
          58050,
          58900,
          59500,
          59600,
          60000,
          60850,
          61300,
          60150,
          60400,
          60000,
          58850,
          58750,
          57700,
          57650,
          57650,
          55850,
          55850,
          54950,
          55200,
          54550,
          54300,
          54050,
          54650,
          55300,
          55500,
          56150,
          56300,
          55800,
          56350,
          57100,
          56150,
          56400,
          54200,
          55850,
          56150,
          56450,
          56350,
          55300,
          54350,
          53850,
          53950,
          54050,
          53950,
          51550,
          53700,
          54100,
          53800,
          53850,
          52900,
          53750,
          53750,
          53100,
          53200,
          53100,
          52800,
          50800,
          50050,
          49450,
          48600,
          47750,
          45600,
          45200,
          44300,
          43700,
          43150,
          41050,
          40750,
          40250,
          39950,
          39700,
          38950,
          38650,
          37650,
          37950,
          37750,
          37200,
          37000,
          36850,
          37100,
          37150,
          38950,
          39500,
          39000,
          38700,
          39150,
          41200,
          42900,
          46900,
          47600,
          47550,
          47450,
          47600,
          48350,
          49350,
          50100,
          51200,
          52050
         ],
         "open": [
          11700,
          11700,
          11700,
          11700,
          11700,
          11700,
          11700,
          11700,
          11700,
          11700,
          11700,
          11700,
          11700,
          11700,
          11700,
          11700,
          11700,
          11700,
          11750,
          11750,
          11750,
          11750,
          11750,
          11750,
          11750,
          11750,
          11750,
          11750,
          11750,
          11750,
          11750,
          11750,
          11750,
          11750,
          11750,
          11750,
          11750,
          11750,
          11750,
          11700,
          11750,
          11750,
          11750,
          11750,
          11750,
          11750,
          11750,
          11750,
          11700,
          11700,
          11750,
          11750,
          11750,
          11750,
          11800,
          11750,
          11750,
          11750,
          11750,
          11750,
          11750,
          11750,
          11750,
          11750,
          11750,
          11750,
          11750,
          11750,
          11750,
          11750,
          11750,
          11750,
          11800,
          11750,
          11750,
          11750,
          11750,
          11750,
          11750,
          11750,
          11750,
          11800,
          11750,
          11750,
          11800,
          11800,
          11850,
          11800,
          11800,
          11800,
          11800,
          11850,
          11800,
          11850,
          11850,
          11850,
          11850
         ],
         "type": "candlestick",
         "x": [
          "02/09/2019",
          "03/09/2019",
          "04/09/2019",
          "05/09/2019",
          "06/09/2019",
          "09/09/2019",
          "10/09/2019",
          "11/09/2019",
          "12/09/2019",
          "13/09/2019",
          "16/09/2019",
          "17/09/2019",
          "18/09/2019",
          "19/09/2019",
          "20/09/2019",
          "23/09/2019",
          "24/09/2019",
          "25/09/2019",
          "26/09/2019",
          "27/09/2019",
          "30/09/2019",
          "01/10/2019",
          "02/10/2019",
          "03/10/2019",
          "04/10/2019",
          "07/10/2019",
          "08/10/2019",
          "09/10/2019",
          "10/10/2019",
          "11/10/2019",
          "14/10/2019",
          "15/10/2019",
          "16/10/2019",
          "17/10/2019",
          "18/10/2019",
          "21/10/2019",
          "22/10/2019",
          "23/10/2019",
          "24/10/2019",
          "25/10/2019",
          "28/10/2019",
          "29/10/2019",
          "30/10/2019",
          "31/10/2019",
          "01/11/2019",
          "04/11/2019",
          "05/11/2019",
          "06/11/2019",
          "07/11/2019",
          "08/11/2019",
          "11/11/2019",
          "12/11/2019",
          "13/11/2019",
          "14/11/2019",
          "15/11/2019",
          "18/11/2019",
          "19/11/2019",
          "20/11/2019",
          "21/11/2019",
          "22/11/2019",
          "25/11/2019",
          "26/11/2019",
          "27/11/2019",
          "28/11/2019",
          "29/11/2019",
          "02/12/2019",
          "03/12/2019",
          "04/12/2019",
          "05/12/2019",
          "06/12/2019",
          "09/12/2019",
          "10/12/2019",
          "11/12/2019",
          "12/12/2019",
          "13/12/2019",
          "16/12/2019",
          "17/12/2019",
          "18/12/2019",
          "19/12/2019",
          "20/12/2019",
          "23/12/2019",
          "26/12/2019",
          "27/12/2019",
          "30/12/2019",
          "31/12/2019",
          "02/01/2020",
          "03/01/2020",
          "06/01/2020",
          "07/01/2020",
          "08/01/2020",
          "09/01/2020",
          "10/01/2020",
          "13/01/2020",
          "14/01/2020",
          "15/01/2020",
          "16/01/2020",
          "17/01/2020"
         ]
        }
       ],
       "layout": {
        "template": {
         "data": {
          "bar": [
           {
            "error_x": {
             "color": "#2a3f5f"
            },
            "error_y": {
             "color": "#2a3f5f"
            },
            "marker": {
             "line": {
              "color": "#E5ECF6",
              "width": 0.5
             }
            },
            "type": "bar"
           }
          ],
          "barpolar": [
           {
            "marker": {
             "line": {
              "color": "#E5ECF6",
              "width": 0.5
             }
            },
            "type": "barpolar"
           }
          ],
          "carpet": [
           {
            "aaxis": {
             "endlinecolor": "#2a3f5f",
             "gridcolor": "white",
             "linecolor": "white",
             "minorgridcolor": "white",
             "startlinecolor": "#2a3f5f"
            },
            "baxis": {
             "endlinecolor": "#2a3f5f",
             "gridcolor": "white",
             "linecolor": "white",
             "minorgridcolor": "white",
             "startlinecolor": "#2a3f5f"
            },
            "type": "carpet"
           }
          ],
          "choropleth": [
           {
            "colorbar": {
             "outlinewidth": 0,
             "ticks": ""
            },
            "type": "choropleth"
           }
          ],
          "contour": [
           {
            "colorbar": {
             "outlinewidth": 0,
             "ticks": ""
            },
            "colorscale": [
             [
              0,
              "#0d0887"
             ],
             [
              0.1111111111111111,
              "#46039f"
             ],
             [
              0.2222222222222222,
              "#7201a8"
             ],
             [
              0.3333333333333333,
              "#9c179e"
             ],
             [
              0.4444444444444444,
              "#bd3786"
             ],
             [
              0.5555555555555556,
              "#d8576b"
             ],
             [
              0.6666666666666666,
              "#ed7953"
             ],
             [
              0.7777777777777778,
              "#fb9f3a"
             ],
             [
              0.8888888888888888,
              "#fdca26"
             ],
             [
              1,
              "#f0f921"
             ]
            ],
            "type": "contour"
           }
          ],
          "contourcarpet": [
           {
            "colorbar": {
             "outlinewidth": 0,
             "ticks": ""
            },
            "type": "contourcarpet"
           }
          ],
          "heatmap": [
           {
            "colorbar": {
             "outlinewidth": 0,
             "ticks": ""
            },
            "colorscale": [
             [
              0,
              "#0d0887"
             ],
             [
              0.1111111111111111,
              "#46039f"
             ],
             [
              0.2222222222222222,
              "#7201a8"
             ],
             [
              0.3333333333333333,
              "#9c179e"
             ],
             [
              0.4444444444444444,
              "#bd3786"
             ],
             [
              0.5555555555555556,
              "#d8576b"
             ],
             [
              0.6666666666666666,
              "#ed7953"
             ],
             [
              0.7777777777777778,
              "#fb9f3a"
             ],
             [
              0.8888888888888888,
              "#fdca26"
             ],
             [
              1,
              "#f0f921"
             ]
            ],
            "type": "heatmap"
           }
          ],
          "heatmapgl": [
           {
            "colorbar": {
             "outlinewidth": 0,
             "ticks": ""
            },
            "colorscale": [
             [
              0,
              "#0d0887"
             ],
             [
              0.1111111111111111,
              "#46039f"
             ],
             [
              0.2222222222222222,
              "#7201a8"
             ],
             [
              0.3333333333333333,
              "#9c179e"
             ],
             [
              0.4444444444444444,
              "#bd3786"
             ],
             [
              0.5555555555555556,
              "#d8576b"
             ],
             [
              0.6666666666666666,
              "#ed7953"
             ],
             [
              0.7777777777777778,
              "#fb9f3a"
             ],
             [
              0.8888888888888888,
              "#fdca26"
             ],
             [
              1,
              "#f0f921"
             ]
            ],
            "type": "heatmapgl"
           }
          ],
          "histogram": [
           {
            "marker": {
             "colorbar": {
              "outlinewidth": 0,
              "ticks": ""
             }
            },
            "type": "histogram"
           }
          ],
          "histogram2d": [
           {
            "colorbar": {
             "outlinewidth": 0,
             "ticks": ""
            },
            "colorscale": [
             [
              0,
              "#0d0887"
             ],
             [
              0.1111111111111111,
              "#46039f"
             ],
             [
              0.2222222222222222,
              "#7201a8"
             ],
             [
              0.3333333333333333,
              "#9c179e"
             ],
             [
              0.4444444444444444,
              "#bd3786"
             ],
             [
              0.5555555555555556,
              "#d8576b"
             ],
             [
              0.6666666666666666,
              "#ed7953"
             ],
             [
              0.7777777777777778,
              "#fb9f3a"
             ],
             [
              0.8888888888888888,
              "#fdca26"
             ],
             [
              1,
              "#f0f921"
             ]
            ],
            "type": "histogram2d"
           }
          ],
          "histogram2dcontour": [
           {
            "colorbar": {
             "outlinewidth": 0,
             "ticks": ""
            },
            "colorscale": [
             [
              0,
              "#0d0887"
             ],
             [
              0.1111111111111111,
              "#46039f"
             ],
             [
              0.2222222222222222,
              "#7201a8"
             ],
             [
              0.3333333333333333,
              "#9c179e"
             ],
             [
              0.4444444444444444,
              "#bd3786"
             ],
             [
              0.5555555555555556,
              "#d8576b"
             ],
             [
              0.6666666666666666,
              "#ed7953"
             ],
             [
              0.7777777777777778,
              "#fb9f3a"
             ],
             [
              0.8888888888888888,
              "#fdca26"
             ],
             [
              1,
              "#f0f921"
             ]
            ],
            "type": "histogram2dcontour"
           }
          ],
          "mesh3d": [
           {
            "colorbar": {
             "outlinewidth": 0,
             "ticks": ""
            },
            "type": "mesh3d"
           }
          ],
          "parcoords": [
           {
            "line": {
             "colorbar": {
              "outlinewidth": 0,
              "ticks": ""
             }
            },
            "type": "parcoords"
           }
          ],
          "pie": [
           {
            "automargin": true,
            "type": "pie"
           }
          ],
          "scatter": [
           {
            "marker": {
             "colorbar": {
              "outlinewidth": 0,
              "ticks": ""
             }
            },
            "type": "scatter"
           }
          ],
          "scatter3d": [
           {
            "line": {
             "colorbar": {
              "outlinewidth": 0,
              "ticks": ""
             }
            },
            "marker": {
             "colorbar": {
              "outlinewidth": 0,
              "ticks": ""
             }
            },
            "type": "scatter3d"
           }
          ],
          "scattercarpet": [
           {
            "marker": {
             "colorbar": {
              "outlinewidth": 0,
              "ticks": ""
             }
            },
            "type": "scattercarpet"
           }
          ],
          "scattergeo": [
           {
            "marker": {
             "colorbar": {
              "outlinewidth": 0,
              "ticks": ""
             }
            },
            "type": "scattergeo"
           }
          ],
          "scattergl": [
           {
            "marker": {
             "colorbar": {
              "outlinewidth": 0,
              "ticks": ""
             }
            },
            "type": "scattergl"
           }
          ],
          "scattermapbox": [
           {
            "marker": {
             "colorbar": {
              "outlinewidth": 0,
              "ticks": ""
             }
            },
            "type": "scattermapbox"
           }
          ],
          "scatterpolar": [
           {
            "marker": {
             "colorbar": {
              "outlinewidth": 0,
              "ticks": ""
             }
            },
            "type": "scatterpolar"
           }
          ],
          "scatterpolargl": [
           {
            "marker": {
             "colorbar": {
              "outlinewidth": 0,
              "ticks": ""
             }
            },
            "type": "scatterpolargl"
           }
          ],
          "scatterternary": [
           {
            "marker": {
             "colorbar": {
              "outlinewidth": 0,
              "ticks": ""
             }
            },
            "type": "scatterternary"
           }
          ],
          "surface": [
           {
            "colorbar": {
             "outlinewidth": 0,
             "ticks": ""
            },
            "colorscale": [
             [
              0,
              "#0d0887"
             ],
             [
              0.1111111111111111,
              "#46039f"
             ],
             [
              0.2222222222222222,
              "#7201a8"
             ],
             [
              0.3333333333333333,
              "#9c179e"
             ],
             [
              0.4444444444444444,
              "#bd3786"
             ],
             [
              0.5555555555555556,
              "#d8576b"
             ],
             [
              0.6666666666666666,
              "#ed7953"
             ],
             [
              0.7777777777777778,
              "#fb9f3a"
             ],
             [
              0.8888888888888888,
              "#fdca26"
             ],
             [
              1,
              "#f0f921"
             ]
            ],
            "type": "surface"
           }
          ],
          "table": [
           {
            "cells": {
             "fill": {
              "color": "#EBF0F8"
             },
             "line": {
              "color": "white"
             }
            },
            "header": {
             "fill": {
              "color": "#C8D4E3"
             },
             "line": {
              "color": "white"
             }
            },
            "type": "table"
           }
          ]
         },
         "layout": {
          "annotationdefaults": {
           "arrowcolor": "#2a3f5f",
           "arrowhead": 0,
           "arrowwidth": 1
          },
          "coloraxis": {
           "colorbar": {
            "outlinewidth": 0,
            "ticks": ""
           }
          },
          "colorscale": {
           "diverging": [
            [
             0,
             "#8e0152"
            ],
            [
             0.1,
             "#c51b7d"
            ],
            [
             0.2,
             "#de77ae"
            ],
            [
             0.3,
             "#f1b6da"
            ],
            [
             0.4,
             "#fde0ef"
            ],
            [
             0.5,
             "#f7f7f7"
            ],
            [
             0.6,
             "#e6f5d0"
            ],
            [
             0.7,
             "#b8e186"
            ],
            [
             0.8,
             "#7fbc41"
            ],
            [
             0.9,
             "#4d9221"
            ],
            [
             1,
             "#276419"
            ]
           ],
           "sequential": [
            [
             0,
             "#0d0887"
            ],
            [
             0.1111111111111111,
             "#46039f"
            ],
            [
             0.2222222222222222,
             "#7201a8"
            ],
            [
             0.3333333333333333,
             "#9c179e"
            ],
            [
             0.4444444444444444,
             "#bd3786"
            ],
            [
             0.5555555555555556,
             "#d8576b"
            ],
            [
             0.6666666666666666,
             "#ed7953"
            ],
            [
             0.7777777777777778,
             "#fb9f3a"
            ],
            [
             0.8888888888888888,
             "#fdca26"
            ],
            [
             1,
             "#f0f921"
            ]
           ],
           "sequentialminus": [
            [
             0,
             "#0d0887"
            ],
            [
             0.1111111111111111,
             "#46039f"
            ],
            [
             0.2222222222222222,
             "#7201a8"
            ],
            [
             0.3333333333333333,
             "#9c179e"
            ],
            [
             0.4444444444444444,
             "#bd3786"
            ],
            [
             0.5555555555555556,
             "#d8576b"
            ],
            [
             0.6666666666666666,
             "#ed7953"
            ],
            [
             0.7777777777777778,
             "#fb9f3a"
            ],
            [
             0.8888888888888888,
             "#fdca26"
            ],
            [
             1,
             "#f0f921"
            ]
           ]
          },
          "colorway": [
           "#636efa",
           "#EF553B",
           "#00cc96",
           "#ab63fa",
           "#FFA15A",
           "#19d3f3",
           "#FF6692",
           "#B6E880",
           "#FF97FF",
           "#FECB52"
          ],
          "font": {
           "color": "#2a3f5f"
          },
          "geo": {
           "bgcolor": "white",
           "lakecolor": "white",
           "landcolor": "#E5ECF6",
           "showlakes": true,
           "showland": true,
           "subunitcolor": "white"
          },
          "hoverlabel": {
           "align": "left"
          },
          "hovermode": "closest",
          "mapbox": {
           "style": "light"
          },
          "paper_bgcolor": "white",
          "plot_bgcolor": "#E5ECF6",
          "polar": {
           "angularaxis": {
            "gridcolor": "white",
            "linecolor": "white",
            "ticks": ""
           },
           "bgcolor": "#E5ECF6",
           "radialaxis": {
            "gridcolor": "white",
            "linecolor": "white",
            "ticks": ""
           }
          },
          "scene": {
           "xaxis": {
            "backgroundcolor": "#E5ECF6",
            "gridcolor": "white",
            "gridwidth": 2,
            "linecolor": "white",
            "showbackground": true,
            "ticks": "",
            "zerolinecolor": "white"
           },
           "yaxis": {
            "backgroundcolor": "#E5ECF6",
            "gridcolor": "white",
            "gridwidth": 2,
            "linecolor": "white",
            "showbackground": true,
            "ticks": "",
            "zerolinecolor": "white"
           },
           "zaxis": {
            "backgroundcolor": "#E5ECF6",
            "gridcolor": "white",
            "gridwidth": 2,
            "linecolor": "white",
            "showbackground": true,
            "ticks": "",
            "zerolinecolor": "white"
           }
          },
          "shapedefaults": {
           "line": {
            "color": "#2a3f5f"
           }
          },
          "ternary": {
           "aaxis": {
            "gridcolor": "white",
            "linecolor": "white",
            "ticks": ""
           },
           "baxis": {
            "gridcolor": "white",
            "linecolor": "white",
            "ticks": ""
           },
           "bgcolor": "#E5ECF6",
           "caxis": {
            "gridcolor": "white",
            "linecolor": "white",
            "ticks": ""
           }
          },
          "title": {
           "x": 0.05
          },
          "xaxis": {
           "automargin": true,
           "gridcolor": "white",
           "linecolor": "white",
           "ticks": "",
           "title": {
            "standoff": 15
           },
           "zerolinecolor": "white",
           "zerolinewidth": 2
          },
          "yaxis": {
           "automargin": true,
           "gridcolor": "white",
           "linecolor": "white",
           "ticks": "",
           "title": {
            "standoff": 15
           },
           "zerolinecolor": "white",
           "zerolinewidth": 2
          }
         }
        }
       }
      },
      "text/html": [
       "<div>\n",
       "        \n",
       "        \n",
       "            <div id=\"cfb3be97-2029-408d-b35c-31316cb53112\" class=\"plotly-graph-div\" style=\"height:525px; width:100%;\"></div>\n",
       "            <script type=\"text/javascript\">\n",
       "                require([\"plotly\"], function(Plotly) {\n",
       "                    window.PLOTLYENV=window.PLOTLYENV || {};\n",
       "                    \n",
       "                if (document.getElementById(\"cfb3be97-2029-408d-b35c-31316cb53112\")) {\n",
       "                    Plotly.newPlot(\n",
       "                        'cfb3be97-2029-408d-b35c-31316cb53112',\n",
       "                        [{\"close\": [53100, 52150, 51900, 51350, 50650, 49300, 49000, 48400, 47500, 47050, 45750, 45300, 44500, 43450, 43400, 43150, 43400, 42950, 43050, 42850, 42850, 42750, 42700, 43000, 42950, 43750, 44350, 44300, 44550, 44900, 46050, 46200, 45800, 45750, 45800, 45250, 45100, 44900, 44550, 43800, 42300, 42150, 41850, 41000, 41000, 41050, 41300, 41050, 40500, 41600, 42400, 41950, 42200, 41900, 41800, 39850, 39800, 39350, 38850, 38550, 36650, 36200, 34650, 35150, 34800, 33450, 33050, 32450, 31850, 31950, 31100, 31300, 31900, 31550, 31850, 32400, 32550, 32500, 32500, 32700, 34700, 35250, 35650, 36100, 36400, 39400, 39800, 42800, 42950, 43200, 43550, 43800, 45200, 45200, 45800, 46850, 46950], \"high\": [24700, 24700, 24650, 24600, 24600, 24450, 24400, 24350, 24350, 24250, 24100, 24050, 24050, 24000, 24050, 23900, 23950, 23750, 23800, 23700, 23650, 23650, 23600, 23450, 23450, 23500, 23400, 23450, 23450, 23350, 23350, 23350, 23250, 23300, 23350, 23350, 23400, 23400, 23400, 23300, 23250, 23200, 23200, 23150, 23250, 23200, 23150, 23150, 22900, 23200, 23400, 23500, 23550, 23650, 23850, 24000, 24100, 24200, 24250, 24300, 24500, 24650, 24800, 24850, 24900, 25100, 25150, 25200, 25200, 25250, 25400, 25350, 25600, 25600, 25700, 25850, 26000, 26000, 26100, 26200, 26250, 26250, 26350, 26250, 26250, 26300, 26350, 26050, 25950, 25900, 25800, 25900, 25700, 25700, 25700, 25650, 25650], \"low\": [58050, 58900, 59500, 59600, 60000, 60850, 61300, 60150, 60400, 60000, 58850, 58750, 57700, 57650, 57650, 55850, 55850, 54950, 55200, 54550, 54300, 54050, 54650, 55300, 55500, 56150, 56300, 55800, 56350, 57100, 56150, 56400, 54200, 55850, 56150, 56450, 56350, 55300, 54350, 53850, 53950, 54050, 53950, 51550, 53700, 54100, 53800, 53850, 52900, 53750, 53750, 53100, 53200, 53100, 52800, 50800, 50050, 49450, 48600, 47750, 45600, 45200, 44300, 43700, 43150, 41050, 40750, 40250, 39950, 39700, 38950, 38650, 37650, 37950, 37750, 37200, 37000, 36850, 37100, 37150, 38950, 39500, 39000, 38700, 39150, 41200, 42900, 46900, 47600, 47550, 47450, 47600, 48350, 49350, 50100, 51200, 52050], \"open\": [11700, 11700, 11700, 11700, 11700, 11700, 11700, 11700, 11700, 11700, 11700, 11700, 11700, 11700, 11700, 11700, 11700, 11700, 11750, 11750, 11750, 11750, 11750, 11750, 11750, 11750, 11750, 11750, 11750, 11750, 11750, 11750, 11750, 11750, 11750, 11750, 11750, 11750, 11750, 11700, 11750, 11750, 11750, 11750, 11750, 11750, 11750, 11750, 11700, 11700, 11750, 11750, 11750, 11750, 11800, 11750, 11750, 11750, 11750, 11750, 11750, 11750, 11750, 11750, 11750, 11750, 11750, 11750, 11750, 11750, 11750, 11750, 11800, 11750, 11750, 11750, 11750, 11750, 11750, 11750, 11750, 11800, 11750, 11750, 11800, 11800, 11850, 11800, 11800, 11800, 11800, 11850, 11800, 11850, 11850, 11850, 11850], \"type\": \"candlestick\", \"x\": [\"02/09/2019\", \"03/09/2019\", \"04/09/2019\", \"05/09/2019\", \"06/09/2019\", \"09/09/2019\", \"10/09/2019\", \"11/09/2019\", \"12/09/2019\", \"13/09/2019\", \"16/09/2019\", \"17/09/2019\", \"18/09/2019\", \"19/09/2019\", \"20/09/2019\", \"23/09/2019\", \"24/09/2019\", \"25/09/2019\", \"26/09/2019\", \"27/09/2019\", \"30/09/2019\", \"01/10/2019\", \"02/10/2019\", \"03/10/2019\", \"04/10/2019\", \"07/10/2019\", \"08/10/2019\", \"09/10/2019\", \"10/10/2019\", \"11/10/2019\", \"14/10/2019\", \"15/10/2019\", \"16/10/2019\", \"17/10/2019\", \"18/10/2019\", \"21/10/2019\", \"22/10/2019\", \"23/10/2019\", \"24/10/2019\", \"25/10/2019\", \"28/10/2019\", \"29/10/2019\", \"30/10/2019\", \"31/10/2019\", \"01/11/2019\", \"04/11/2019\", \"05/11/2019\", \"06/11/2019\", \"07/11/2019\", \"08/11/2019\", \"11/11/2019\", \"12/11/2019\", \"13/11/2019\", \"14/11/2019\", \"15/11/2019\", \"18/11/2019\", \"19/11/2019\", \"20/11/2019\", \"21/11/2019\", \"22/11/2019\", \"25/11/2019\", \"26/11/2019\", \"27/11/2019\", \"28/11/2019\", \"29/11/2019\", \"02/12/2019\", \"03/12/2019\", \"04/12/2019\", \"05/12/2019\", \"06/12/2019\", \"09/12/2019\", \"10/12/2019\", \"11/12/2019\", \"12/12/2019\", \"13/12/2019\", \"16/12/2019\", \"17/12/2019\", \"18/12/2019\", \"19/12/2019\", \"20/12/2019\", \"23/12/2019\", \"26/12/2019\", \"27/12/2019\", \"30/12/2019\", \"31/12/2019\", \"02/01/2020\", \"03/01/2020\", \"06/01/2020\", \"07/01/2020\", \"08/01/2020\", \"09/01/2020\", \"10/01/2020\", \"13/01/2020\", \"14/01/2020\", \"15/01/2020\", \"16/01/2020\", \"17/01/2020\"]}],\n",
       "                        {\"template\": {\"data\": {\"bar\": [{\"error_x\": {\"color\": \"#2a3f5f\"}, \"error_y\": {\"color\": \"#2a3f5f\"}, \"marker\": {\"line\": {\"color\": \"#E5ECF6\", \"width\": 0.5}}, \"type\": \"bar\"}], \"barpolar\": [{\"marker\": {\"line\": {\"color\": \"#E5ECF6\", \"width\": 0.5}}, \"type\": \"barpolar\"}], \"carpet\": [{\"aaxis\": {\"endlinecolor\": \"#2a3f5f\", \"gridcolor\": \"white\", \"linecolor\": \"white\", \"minorgridcolor\": \"white\", \"startlinecolor\": \"#2a3f5f\"}, \"baxis\": {\"endlinecolor\": \"#2a3f5f\", \"gridcolor\": \"white\", \"linecolor\": \"white\", \"minorgridcolor\": \"white\", \"startlinecolor\": \"#2a3f5f\"}, \"type\": \"carpet\"}], \"choropleth\": [{\"colorbar\": {\"outlinewidth\": 0, \"ticks\": \"\"}, \"type\": \"choropleth\"}], \"contour\": [{\"colorbar\": {\"outlinewidth\": 0, \"ticks\": \"\"}, \"colorscale\": [[0.0, \"#0d0887\"], [0.1111111111111111, \"#46039f\"], [0.2222222222222222, \"#7201a8\"], [0.3333333333333333, \"#9c179e\"], [0.4444444444444444, \"#bd3786\"], [0.5555555555555556, \"#d8576b\"], [0.6666666666666666, \"#ed7953\"], [0.7777777777777778, \"#fb9f3a\"], [0.8888888888888888, \"#fdca26\"], [1.0, \"#f0f921\"]], \"type\": \"contour\"}], \"contourcarpet\": [{\"colorbar\": {\"outlinewidth\": 0, \"ticks\": \"\"}, \"type\": \"contourcarpet\"}], \"heatmap\": [{\"colorbar\": {\"outlinewidth\": 0, \"ticks\": \"\"}, \"colorscale\": [[0.0, \"#0d0887\"], [0.1111111111111111, \"#46039f\"], [0.2222222222222222, \"#7201a8\"], [0.3333333333333333, \"#9c179e\"], [0.4444444444444444, \"#bd3786\"], [0.5555555555555556, \"#d8576b\"], [0.6666666666666666, \"#ed7953\"], [0.7777777777777778, \"#fb9f3a\"], [0.8888888888888888, \"#fdca26\"], [1.0, \"#f0f921\"]], \"type\": \"heatmap\"}], \"heatmapgl\": [{\"colorbar\": {\"outlinewidth\": 0, \"ticks\": \"\"}, \"colorscale\": [[0.0, \"#0d0887\"], [0.1111111111111111, \"#46039f\"], [0.2222222222222222, \"#7201a8\"], [0.3333333333333333, \"#9c179e\"], [0.4444444444444444, \"#bd3786\"], [0.5555555555555556, \"#d8576b\"], [0.6666666666666666, \"#ed7953\"], [0.7777777777777778, \"#fb9f3a\"], [0.8888888888888888, \"#fdca26\"], [1.0, \"#f0f921\"]], \"type\": \"heatmapgl\"}], \"histogram\": [{\"marker\": {\"colorbar\": {\"outlinewidth\": 0, \"ticks\": \"\"}}, \"type\": \"histogram\"}], \"histogram2d\": [{\"colorbar\": {\"outlinewidth\": 0, \"ticks\": \"\"}, \"colorscale\": [[0.0, \"#0d0887\"], [0.1111111111111111, \"#46039f\"], [0.2222222222222222, \"#7201a8\"], [0.3333333333333333, \"#9c179e\"], [0.4444444444444444, \"#bd3786\"], [0.5555555555555556, \"#d8576b\"], [0.6666666666666666, \"#ed7953\"], [0.7777777777777778, \"#fb9f3a\"], [0.8888888888888888, \"#fdca26\"], [1.0, \"#f0f921\"]], \"type\": \"histogram2d\"}], \"histogram2dcontour\": [{\"colorbar\": {\"outlinewidth\": 0, \"ticks\": \"\"}, \"colorscale\": [[0.0, \"#0d0887\"], [0.1111111111111111, \"#46039f\"], [0.2222222222222222, \"#7201a8\"], [0.3333333333333333, \"#9c179e\"], [0.4444444444444444, \"#bd3786\"], [0.5555555555555556, \"#d8576b\"], [0.6666666666666666, \"#ed7953\"], [0.7777777777777778, \"#fb9f3a\"], [0.8888888888888888, \"#fdca26\"], [1.0, \"#f0f921\"]], \"type\": \"histogram2dcontour\"}], \"mesh3d\": [{\"colorbar\": {\"outlinewidth\": 0, \"ticks\": \"\"}, \"type\": \"mesh3d\"}], \"parcoords\": [{\"line\": {\"colorbar\": {\"outlinewidth\": 0, \"ticks\": \"\"}}, \"type\": \"parcoords\"}], \"pie\": [{\"automargin\": true, \"type\": \"pie\"}], \"scatter\": [{\"marker\": {\"colorbar\": {\"outlinewidth\": 0, \"ticks\": \"\"}}, \"type\": \"scatter\"}], \"scatter3d\": [{\"line\": {\"colorbar\": {\"outlinewidth\": 0, \"ticks\": \"\"}}, \"marker\": {\"colorbar\": {\"outlinewidth\": 0, \"ticks\": \"\"}}, \"type\": \"scatter3d\"}], \"scattercarpet\": [{\"marker\": {\"colorbar\": {\"outlinewidth\": 0, \"ticks\": \"\"}}, \"type\": \"scattercarpet\"}], \"scattergeo\": [{\"marker\": {\"colorbar\": {\"outlinewidth\": 0, \"ticks\": \"\"}}, \"type\": \"scattergeo\"}], \"scattergl\": [{\"marker\": {\"colorbar\": {\"outlinewidth\": 0, \"ticks\": \"\"}}, \"type\": \"scattergl\"}], \"scattermapbox\": [{\"marker\": {\"colorbar\": {\"outlinewidth\": 0, \"ticks\": \"\"}}, \"type\": \"scattermapbox\"}], \"scatterpolar\": [{\"marker\": {\"colorbar\": {\"outlinewidth\": 0, \"ticks\": \"\"}}, \"type\": \"scatterpolar\"}], \"scatterpolargl\": [{\"marker\": {\"colorbar\": {\"outlinewidth\": 0, \"ticks\": \"\"}}, \"type\": \"scatterpolargl\"}], \"scatterternary\": [{\"marker\": {\"colorbar\": {\"outlinewidth\": 0, \"ticks\": \"\"}}, \"type\": \"scatterternary\"}], \"surface\": [{\"colorbar\": {\"outlinewidth\": 0, \"ticks\": \"\"}, \"colorscale\": [[0.0, \"#0d0887\"], [0.1111111111111111, \"#46039f\"], [0.2222222222222222, \"#7201a8\"], [0.3333333333333333, \"#9c179e\"], [0.4444444444444444, \"#bd3786\"], [0.5555555555555556, \"#d8576b\"], [0.6666666666666666, \"#ed7953\"], [0.7777777777777778, \"#fb9f3a\"], [0.8888888888888888, \"#fdca26\"], [1.0, \"#f0f921\"]], \"type\": \"surface\"}], \"table\": [{\"cells\": {\"fill\": {\"color\": \"#EBF0F8\"}, \"line\": {\"color\": \"white\"}}, \"header\": {\"fill\": {\"color\": \"#C8D4E3\"}, \"line\": {\"color\": \"white\"}}, \"type\": \"table\"}]}, \"layout\": {\"annotationdefaults\": {\"arrowcolor\": \"#2a3f5f\", \"arrowhead\": 0, \"arrowwidth\": 1}, \"coloraxis\": {\"colorbar\": {\"outlinewidth\": 0, \"ticks\": \"\"}}, \"colorscale\": {\"diverging\": [[0, \"#8e0152\"], [0.1, \"#c51b7d\"], [0.2, \"#de77ae\"], [0.3, \"#f1b6da\"], [0.4, \"#fde0ef\"], [0.5, \"#f7f7f7\"], [0.6, \"#e6f5d0\"], [0.7, \"#b8e186\"], [0.8, \"#7fbc41\"], [0.9, \"#4d9221\"], [1, \"#276419\"]], \"sequential\": [[0.0, \"#0d0887\"], [0.1111111111111111, \"#46039f\"], [0.2222222222222222, \"#7201a8\"], [0.3333333333333333, \"#9c179e\"], [0.4444444444444444, \"#bd3786\"], [0.5555555555555556, \"#d8576b\"], [0.6666666666666666, \"#ed7953\"], [0.7777777777777778, \"#fb9f3a\"], [0.8888888888888888, \"#fdca26\"], [1.0, \"#f0f921\"]], \"sequentialminus\": [[0.0, \"#0d0887\"], [0.1111111111111111, \"#46039f\"], [0.2222222222222222, \"#7201a8\"], [0.3333333333333333, \"#9c179e\"], [0.4444444444444444, \"#bd3786\"], [0.5555555555555556, \"#d8576b\"], [0.6666666666666666, \"#ed7953\"], [0.7777777777777778, \"#fb9f3a\"], [0.8888888888888888, \"#fdca26\"], [1.0, \"#f0f921\"]]}, \"colorway\": [\"#636efa\", \"#EF553B\", \"#00cc96\", \"#ab63fa\", \"#FFA15A\", \"#19d3f3\", \"#FF6692\", \"#B6E880\", \"#FF97FF\", \"#FECB52\"], \"font\": {\"color\": \"#2a3f5f\"}, \"geo\": {\"bgcolor\": \"white\", \"lakecolor\": \"white\", \"landcolor\": \"#E5ECF6\", \"showlakes\": true, \"showland\": true, \"subunitcolor\": \"white\"}, \"hoverlabel\": {\"align\": \"left\"}, \"hovermode\": \"closest\", \"mapbox\": {\"style\": \"light\"}, \"paper_bgcolor\": \"white\", \"plot_bgcolor\": \"#E5ECF6\", \"polar\": {\"angularaxis\": {\"gridcolor\": \"white\", \"linecolor\": \"white\", \"ticks\": \"\"}, \"bgcolor\": \"#E5ECF6\", \"radialaxis\": {\"gridcolor\": \"white\", \"linecolor\": \"white\", \"ticks\": \"\"}}, \"scene\": {\"xaxis\": {\"backgroundcolor\": \"#E5ECF6\", \"gridcolor\": \"white\", \"gridwidth\": 2, \"linecolor\": \"white\", \"showbackground\": true, \"ticks\": \"\", \"zerolinecolor\": \"white\"}, \"yaxis\": {\"backgroundcolor\": \"#E5ECF6\", \"gridcolor\": \"white\", \"gridwidth\": 2, \"linecolor\": \"white\", \"showbackground\": true, \"ticks\": \"\", \"zerolinecolor\": \"white\"}, \"zaxis\": {\"backgroundcolor\": \"#E5ECF6\", \"gridcolor\": \"white\", \"gridwidth\": 2, \"linecolor\": \"white\", \"showbackground\": true, \"ticks\": \"\", \"zerolinecolor\": \"white\"}}, \"shapedefaults\": {\"line\": {\"color\": \"#2a3f5f\"}}, \"ternary\": {\"aaxis\": {\"gridcolor\": \"white\", \"linecolor\": \"white\", \"ticks\": \"\"}, \"baxis\": {\"gridcolor\": \"white\", \"linecolor\": \"white\", \"ticks\": \"\"}, \"bgcolor\": \"#E5ECF6\", \"caxis\": {\"gridcolor\": \"white\", \"linecolor\": \"white\", \"ticks\": \"\"}}, \"title\": {\"x\": 0.05}, \"xaxis\": {\"automargin\": true, \"gridcolor\": \"white\", \"linecolor\": \"white\", \"ticks\": \"\", \"title\": {\"standoff\": 15}, \"zerolinecolor\": \"white\", \"zerolinewidth\": 2}, \"yaxis\": {\"automargin\": true, \"gridcolor\": \"white\", \"linecolor\": \"white\", \"ticks\": \"\", \"title\": {\"standoff\": 15}, \"zerolinecolor\": \"white\", \"zerolinewidth\": 2}}}},\n",
       "                        {\"responsive\": true}\n",
       "                    ).then(function(){\n",
       "                            \n",
       "var gd = document.getElementById('cfb3be97-2029-408d-b35c-31316cb53112');\n",
       "var x = new MutationObserver(function (mutations, observer) {{\n",
       "        var display = window.getComputedStyle(gd).display;\n",
       "        if (!display || display === 'none') {{\n",
       "            console.log([gd, 'removed!']);\n",
       "            Plotly.purge(gd);\n",
       "            observer.disconnect();\n",
       "        }}\n",
       "}});\n",
       "\n",
       "// Listen for the removal of the full notebook cells\n",
       "var notebookContainer = gd.closest('#notebook-container');\n",
       "if (notebookContainer) {{\n",
       "    x.observe(notebookContainer, {childList: true});\n",
       "}}\n",
       "\n",
       "// Listen for the clearing of the current output cell\n",
       "var outputEl = gd.closest('.output');\n",
       "if (outputEl) {{\n",
       "    x.observe(outputEl, {childList: true});\n",
       "}}\n",
       "\n",
       "                        })\n",
       "                };\n",
       "                });\n",
       "            </script>\n",
       "        </div>"
      ]
     },
     "metadata": {},
     "output_type": "display_data"
    }
   ],
   "source": [
    "import plotly.graph_objects as go\n",
    "from datetime import datetime\n",
    "fig = go.Figure(data=[go.Candlestick(x=data_pangan['Date'],\n",
    "            open=data_pangan['Beras'],\n",
    "            high=data_pangan['Telur Ayam'],\n",
    "            low=data_pangan['Cabai Rawit'],\n",
    "            close=data_pangan['Cabai Merah'])])\n",
    "#print(df)\n",
    "fig.show()"
   ]
  },
  {
   "cell_type": "code",
   "execution_count": null,
   "metadata": {},
   "outputs": [],
   "source": []
  },
  {
   "cell_type": "code",
   "execution_count": 20,
   "metadata": {},
   "outputs": [
    {
     "data": {
      "image/png": "[encoded data removed]",
      "text/plain": [
       "<Figure size 1296x576 with 1 Axes>"
      ]
     },
     "metadata": {
      "needs_background": "light"
     },
     "output_type": "display_data"
    }
   ],
   "source": [
    "import matplotlib.pyplot as plt\n",
    "import pandas as pd\n",
    "plt.figure(figsize=(18,8))\n",
    "\n",
    "plt.plot(data_pangan['Date'],data_pangan['Cabai Rawit'])\n",
    "plt.xticks(rotation=90)\n",
    "\n",
    "plt.show()"
   ]
  },
  {
   "cell_type": "code",
   "execution_count": null,
   "metadata": {},
   "outputs": [],
   "source": []
  }
 ],
 "metadata": {
  "kernelspec": {
   "display_name": "Python 3",
   "language": "python",
   "name": "python3"
  },
  "language_info": {
   "codemirror_mode": {
    "name": "ipython",
    "version": 3
   },
   "file_extension": ".py",
   "mimetype": "text/x-python",
   "name": "python",
   "nbconvert_exporter": "python",
   "pygments_lexer": "ipython3",
   "version": "3.7.3"
  }
 },
 "nbformat": 4,
 "nbformat_minor": 2
}
